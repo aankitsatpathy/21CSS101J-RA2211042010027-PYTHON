{
  "nbformat": 4,
  "nbformat_minor": 0,
  "metadata": {
    "colab": {
      "provenance": [],
      "authorship_tag": "ABX9TyP6RToU5JiEuCFCdn6JhHkX",
      "include_colab_link": true
    },
    "kernelspec": {
      "name": "python3",
      "display_name": "Python 3"
    },
    "language_info": {
      "name": "python"
    }
  },
  "cells": [
    {
      "cell_type": "markdown",
      "metadata": {
        "id": "view-in-github",
        "colab_type": "text"
      },
      "source": [
        "<a href=\"https://colab.research.google.com/github/aankitsatpathy/21CSS101J-RA2211042010027-PYTHON/blob/main/RA2211042010027.ipynb\" target=\"_parent\"><img src=\"https://colab.research.google.com/assets/colab-badge.svg\" alt=\"Open In Colab\"/></a>"
      ]
    },
    {
      "cell_type": "code",
      "execution_count": 3,
      "metadata": {
        "colab": {
          "base_uri": "https://localhost:8080/"
        },
        "id": "dkMNAjH2G6JY",
        "outputId": "83c34ae4-a523-402e-a2a8-525604cc44ad"
      },
      "outputs": [
        {
          "output_type": "stream",
          "name": "stdout",
          "text": [
            "RA2211042010027\n",
            "0\n",
            "1\n",
            "2\n",
            "3\n",
            "4\n",
            "5\n",
            "6\n",
            "7\n",
            "8\n",
            "9\n",
            "10\n"
          ]
        }
      ],
      "source": [
        "\n",
        "for a in range(11):\n",
        "    print(a)"
      ]
    },
    {
      "cell_type": "code",
      "source": [
        "a=10\n",
        "b=20\n",
        "print(\"Before swap \\nA=\",a,\"B= \",b,\"\\nAfter swaping\")\n",
        "t=a\n",
        "a=b\n",
        "b=t\n",
        "print(\"A=\",a,\"B= \",b)"
      ],
      "metadata": {
        "colab": {
          "base_uri": "https://localhost:8080/"
        },
        "id": "YqPEAIW4Lj15",
        "outputId": "164b7fc9-c2db-44d1-8116-c3ca514522d3"
      },
      "execution_count": 7,
      "outputs": [
        {
          "output_type": "stream",
          "name": "stdout",
          "text": [
            "Before swap \n",
            "A= 10 B=  20 \n",
            "After swaping\n",
            "A= 20 B=  10\n"
          ]
        }
      ]
    }
  ]
}