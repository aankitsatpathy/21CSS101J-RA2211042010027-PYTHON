{
  "nbformat": 4,
  "nbformat_minor": 0,
  "metadata": {
    "colab": {
      "provenance": [],
      "authorship_tag": "ABX9TyNtq5rC+4UjloCIt/F/KhWm",
      "include_colab_link": true
    },
    "kernelspec": {
      "name": "python3",
      "display_name": "Python 3"
    },
    "language_info": {
      "name": "python"
    }
  },
  "cells": [
    {
      "cell_type": "markdown",
      "metadata": {
        "id": "view-in-github",
        "colab_type": "text"
      },
      "source": [
        "<a href=\"https://colab.research.google.com/github/aankitsatpathy/21CSS101J-RA2211042010027-PYTHON/blob/main/RA2211042010027.ipynb\" target=\"_parent\"><img src=\"https://colab.research.google.com/assets/colab-badge.svg\" alt=\"Open In Colab\"/></a>"
      ]
    },
    {
      "cell_type": "code",
      "execution_count": null,
      "metadata": {
        "colab": {
          "base_uri": "https://localhost:8080/"
        },
        "id": "dkMNAjH2G6JY",
        "outputId": "83c34ae4-a523-402e-a2a8-525604cc44ad"
      },
      "outputs": [
        {
          "output_type": "stream",
          "name": "stdout",
          "text": [
            "RA2211042010027\n",
            "0\n",
            "1\n",
            "2\n",
            "3\n",
            "4\n",
            "5\n",
            "6\n",
            "7\n",
            "8\n",
            "9\n",
            "10\n"
          ]
        }
      ],
      "source": [
        "#print 1-10\n",
        "for a in range(11):\n",
        "    print(a)"
      ]
    },
    {
      "cell_type": "code",
      "source": [
        "#post-increment\n",
        "a=10\n",
        "print(++a)"
      ],
      "metadata": {
        "colab": {
          "base_uri": "https://localhost:8080/"
        },
        "id": "u4E3OWipqg7b",
        "outputId": "1739b1a1-6f63-4c7b-8c96-d46dde42e645"
      },
      "execution_count": null,
      "outputs": [
        {
          "output_type": "stream",
          "name": "stdout",
          "text": [
            "10\n"
          ]
        }
      ]
    },
    {
      "cell_type": "code",
      "source": [
        "#swap\n",
        "a=10\n",
        "b=20\n",
        "print(\"Before swap \\nA =\",a,\"B = \",b,\"\\nAfter swaping\")\n",
        "t=a\n",
        "a=b\n",
        "b=t\n",
        "print(\"A =\",a,\"B = \",b)"
      ],
      "metadata": {
        "colab": {
          "base_uri": "https://localhost:8080/"
        },
        "id": "YqPEAIW4Lj15",
        "outputId": "098f94aa-bea4-4943-d65c-868277f92d69"
      },
      "execution_count": null,
      "outputs": [
        {
          "output_type": "stream",
          "name": "stdout",
          "text": [
            "Before swap \n",
            "A = 10 B =  20 \n",
            "After swaping\n",
            "A = 20 B =  10\n"
          ]
        }
      ]
    },
    {
      "cell_type": "code",
      "source": [
        "#sum  \n",
        "a=10\n",
        "b=20\n",
        "c=a+b\n",
        "print(\"Sum = \",c)"
      ],
      "metadata": {
        "colab": {
          "base_uri": "https://localhost:8080/"
        },
        "id": "wvDN_081MzeQ",
        "outputId": "ac1588e1-43cc-4c3a-f82d-ea764a48fc3f"
      },
      "execution_count": null,
      "outputs": [
        {
          "output_type": "stream",
          "name": "stdout",
          "text": [
            "Sum =  30\n"
          ]
        }
      ]
    },
    {
      "cell_type": "code",
      "source": [
        "#largest2\n",
        "a=int(input(\"Enter\"))\n",
        "b=int(input(\"Enter\"))\n",
        "print(\"The largest number is = \",end=\" \")\n",
        "if(a>b):\n",
        "  print(a)\n",
        "else:\n",
        "  print(b)\n"
      ],
      "metadata": {
        "colab": {
          "base_uri": "https://localhost:8080/"
        },
        "id": "dfq_7ZRcQBva",
        "outputId": "0dd68b43-44e1-43f3-c981-8e85fa4ad45a"
      },
      "execution_count": null,
      "outputs": [
        {
          "output_type": "stream",
          "name": "stdout",
          "text": [
            "Enter56\n",
            "Enter65\n",
            "The largest number is =  65\n"
          ]
        }
      ]
    },
    {
      "cell_type": "code",
      "source": [
        "#sum\n",
        "a=int(input(\"Enter\"))\n",
        "b=int(input(\"Enter\"))\n",
        "print(\"Sum = \",a+b)"
      ],
      "metadata": {
        "colab": {
          "base_uri": "https://localhost:8080/"
        },
        "id": "UHTPUBuzREpe",
        "outputId": "11f5fdd9-39d8-441f-92f8-186c1823b8f6"
      },
      "execution_count": null,
      "outputs": [
        {
          "output_type": "stream",
          "name": "stdout",
          "text": [
            "Enter657\n",
            "Enter5467\n",
            "Sum =  6124\n"
          ]
        }
      ]
    },
    {
      "cell_type": "code",
      "source": [
        "#difference\n",
        "a=int(input(\"Enter\"))\n",
        "b=int(input(\"Enter\"))\n",
        "print(\"Difference = \",a-b)"
      ],
      "metadata": {
        "colab": {
          "base_uri": "https://localhost:8080/"
        },
        "id": "h_cd5gUBSect",
        "outputId": "72fcfa66-1bc3-431c-97a4-4ac4083c1bbb"
      },
      "execution_count": null,
      "outputs": [
        {
          "output_type": "stream",
          "name": "stdout",
          "text": [
            "Enter876\n",
            "Enter5678\n",
            "Difference =  -4802\n"
          ]
        }
      ]
    },
    {
      "cell_type": "code",
      "source": [
        "#largest3\n",
        "a=int(input(\"Enter\"))\n",
        "b=int(input(\"Enter\"))\n",
        "c=int(input(\"Enter\"))\n",
        "print(\"The largest number is = \",end=\" \")\n",
        "if(a>b and a>c):\n",
        "  print(a)\n",
        "elif(b>c and b>a):\n",
        "  print(b)\n",
        "else:\n",
        "  print(c)"
      ],
      "metadata": {
        "colab": {
          "base_uri": "https://localhost:8080/"
        },
        "outputId": "f103ac0f-56da-40e9-f777-58b4a16e0c2b",
        "id": "EeAOC2d-RJcl"
      },
      "execution_count": null,
      "outputs": [
        {
          "output_type": "stream",
          "name": "stdout",
          "text": [
            "Enter546\n",
            "Enter765\n",
            "Enter345\n",
            "The largest number is =  765\n"
          ]
        }
      ]
    },
    {
      "cell_type": "code",
      "source": [
        "#smallest2\n",
        "a=int(input(\"Enter\"))\n",
        "b=int(input(\"Enter\"))\n",
        "print(\"The smallest number is = \",end=\" \")\n",
        "if(a<b):\n",
        "  print(a)\n",
        "else:\n",
        "  print(b)\n"
      ],
      "metadata": {
        "colab": {
          "base_uri": "https://localhost:8080/"
        },
        "outputId": "79c4534e-0e2b-468c-bea2-6772ba278681",
        "id": "3gKiEe0oRslr"
      },
      "execution_count": null,
      "outputs": [
        {
          "output_type": "stream",
          "name": "stdout",
          "text": [
            "Enter764\n",
            "Enter5467\n",
            "The smallest number is =  764\n"
          ]
        }
      ]
    },
    {
      "cell_type": "code",
      "source": [
        "#smallest3\n",
        "a=int(input(\"Enter\"))\n",
        "b=int(input(\"Enter\"))\n",
        "c=int(input(\"Enter\"))\n",
        "print(\"The smallest number is = \",end=\" \")\n",
        "if(a<b and a<c):\n",
        "  print(a)\n",
        "elif(b<c and b<a):\n",
        "  print(b)\n",
        "else:\n",
        "  print(c)"
      ],
      "metadata": {
        "colab": {
          "base_uri": "https://localhost:8080/"
        },
        "id": "EoZagrWoRyB-",
        "outputId": "07f5996c-0e2f-4d4d-ee52-a1102ad9bceb"
      },
      "execution_count": null,
      "outputs": [
        {
          "output_type": "stream",
          "name": "stdout",
          "text": [
            "Enter765\n",
            "Enter567\n",
            "Enter8765\n",
            "The smallest number is =  567\n"
          ]
        }
      ]
    },
    {
      "cell_type": "code",
      "source": [
        "#product\n",
        "a=int(input(\"Enter\"))\n",
        "b=int(input(\"Enter\"))\n",
        "print(\"Product = \",a*b)"
      ],
      "metadata": {
        "colab": {
          "base_uri": "https://localhost:8080/"
        },
        "id": "viyg1GT-SpUQ",
        "outputId": "4df46b38-8e2a-49a3-ceb2-83b2683f3675"
      },
      "execution_count": null,
      "outputs": [
        {
          "output_type": "stream",
          "name": "stdout",
          "text": [
            "Enter65\n",
            "Enter2\n",
            "Product =  130\n"
          ]
        }
      ]
    },
    {
      "cell_type": "code",
      "source": [
        "#division\n",
        "a=int(input(\"Enter\"))\n",
        "b=int(input(\"Enter\"))\n",
        "print(\"Quotient = \",a/b)"
      ],
      "metadata": {
        "colab": {
          "base_uri": "https://localhost:8080/"
        },
        "id": "V3UuHJoQTMfL",
        "outputId": "3b4f0e8b-8b94-43be-ec9c-ea5be246f537"
      },
      "execution_count": null,
      "outputs": [
        {
          "output_type": "stream",
          "name": "stdout",
          "text": [
            "Enter56\n",
            "Enter8\n",
            "Quotient =  7.0\n"
          ]
        }
      ]
    },
    {
      "cell_type": "code",
      "source": [
        "#intdivision\n",
        "a=int(input(\"Enter\"))\n",
        "b=int(input(\"Enter\"))\n",
        "print(\"Int Quotient = \",a//b)"
      ],
      "metadata": {
        "colab": {
          "base_uri": "https://localhost:8080/"
        },
        "id": "83Zgciz_TYi3",
        "outputId": "fdef60d5-1f78-40c3-caa9-7aa03fec19d6"
      },
      "execution_count": null,
      "outputs": [
        {
          "output_type": "stream",
          "name": "stdout",
          "text": [
            "Enter56\n",
            "Enter8\n",
            "Int Quotient =  7\n"
          ]
        }
      ]
    },
    {
      "cell_type": "code",
      "source": [
        "#remainder\n",
        "a=int(input(\"Enter\"))\n",
        "b=int(input(\"Enter\"))\n",
        "print(\"Remainder = \",a%b)"
      ],
      "metadata": {
        "colab": {
          "base_uri": "https://localhost:8080/"
        },
        "id": "OLbr50_2Tj81",
        "outputId": "79ab2c89-f7d1-44f5-ab5a-9e1a3e80368e"
      },
      "execution_count": null,
      "outputs": [
        {
          "output_type": "stream",
          "name": "stdout",
          "text": [
            "Enter435\n",
            "Enter7\n",
            "Remainder =  1\n"
          ]
        }
      ]
    },
    {
      "cell_type": "code",
      "source": [
        "#string reverse\n",
        "a=input(\"Enter\")\n",
        "b=a[::-1]\n",
        "print(b)"
      ],
      "metadata": {
        "colab": {
          "base_uri": "https://localhost:8080/"
        },
        "id": "pHazLZ3vUIf5",
        "outputId": "ee185c70-4df4-47da-e86e-b85e66308a71"
      },
      "execution_count": null,
      "outputs": [
        {
          "output_type": "stream",
          "name": "stdout",
          "text": [
            "Enteraankit\n",
            "tiknaa\n"
          ]
        }
      ]
    },
    {
      "cell_type": "code",
      "source": [
        "#substring\n",
        "a=(input(\"Enter\"))\n",
        "a[:5]"
      ],
      "metadata": {
        "colab": {
          "base_uri": "https://localhost:8080/",
          "height": 53
        },
        "id": "A9tNL4lqWmeQ",
        "outputId": "c1b64c17-b843-46c7-d17c-924af8c45d91"
      },
      "execution_count": null,
      "outputs": [
        {
          "name": "stdout",
          "output_type": "stream",
          "text": [
            "Enterjhghjghf\n"
          ]
        },
        {
          "output_type": "execute_result",
          "data": {
            "text/plain": [
              "'jhghj'"
            ],
            "application/vnd.google.colaboratory.intrinsic+json": {
              "type": "string"
            }
          },
          "metadata": {},
          "execution_count": 25
        }
      ]
    },
    {
      "cell_type": "code",
      "source": [
        "#substring\n",
        "a=(input(\"Enter\"))\n",
        "a[2:5]"
      ],
      "metadata": {
        "colab": {
          "base_uri": "https://localhost:8080/",
          "height": 53
        },
        "id": "PuUpEecsWzGL",
        "outputId": "94e2b205-62e1-4c49-cd55-c93d447eedca"
      },
      "execution_count": null,
      "outputs": [
        {
          "name": "stdout",
          "output_type": "stream",
          "text": [
            "Enterhfhfty\n"
          ]
        },
        {
          "output_type": "execute_result",
          "data": {
            "text/plain": [
              "'hft'"
            ],
            "application/vnd.google.colaboratory.intrinsic+json": {
              "type": "string"
            }
          },
          "metadata": {},
          "execution_count": 26
        }
      ]
    },
    {
      "cell_type": "code",
      "source": [
        "#uppercase\n",
        "a=(input(\"Enter\"))\n",
        "a.upper()"
      ],
      "metadata": {
        "colab": {
          "base_uri": "https://localhost:8080/",
          "height": 53
        },
        "id": "K8BJlp__XCqU",
        "outputId": "da3ba02a-a7ce-4dad-fc36-2514e44a8a86"
      },
      "execution_count": null,
      "outputs": [
        {
          "name": "stdout",
          "output_type": "stream",
          "text": [
            "Enterghugyufghjbhjftyfhugtdxrtcrtse\n"
          ]
        },
        {
          "output_type": "execute_result",
          "data": {
            "text/plain": [
              "'GHUGYUFGHJBHJFTYFHUGTDXRTCRTSE'"
            ],
            "application/vnd.google.colaboratory.intrinsic+json": {
              "type": "string"
            }
          },
          "metadata": {},
          "execution_count": 27
        }
      ]
    },
    {
      "cell_type": "code",
      "source": [
        "#lowercase\n",
        "a=(input(\"Enter\"))\n",
        "a.lower()"
      ],
      "metadata": {
        "colab": {
          "base_uri": "https://localhost:8080/",
          "height": 53
        },
        "id": "rAY1ojWgXZHU",
        "outputId": "573e20b9-a27e-4fc1-bda4-2bb51a489c2e"
      },
      "execution_count": null,
      "outputs": [
        {
          "name": "stdout",
          "output_type": "stream",
          "text": [
            "EnterFDTYRDGHFTDFHJGUIGFGIURGHFRIGHFKCVHIGYRIKFJDNFIURYGRIUU\n"
          ]
        },
        {
          "output_type": "execute_result",
          "data": {
            "text/plain": [
              "'fdtyrdghftdfhjguigfgiurghfrighfkcvhigyrikfjdnfiurygriuu'"
            ],
            "application/vnd.google.colaboratory.intrinsic+json": {
              "type": "string"
            }
          },
          "metadata": {},
          "execution_count": 28
        }
      ]
    },
    {
      "cell_type": "code",
      "source": [
        "#check alphabets\n",
        "a=(input(\"Enter\"))\n",
        "a.isalpha()"
      ],
      "metadata": {
        "colab": {
          "base_uri": "https://localhost:8080/"
        },
        "id": "FfnSTrFdYaOL",
        "outputId": "5e24cb1d-3938-45e4-a2eb-44a51c7aca70"
      },
      "execution_count": null,
      "outputs": [
        {
          "name": "stdout",
          "output_type": "stream",
          "text": [
            "Enterhfyf44etc\n"
          ]
        },
        {
          "output_type": "execute_result",
          "data": {
            "text/plain": [
              "False"
            ]
          },
          "metadata": {},
          "execution_count": 31
        }
      ]
    },
    {
      "cell_type": "code",
      "source": [
        "#isdigit\n",
        "a=(input(\"Enter\"))\n",
        "a.isdigit()"
      ],
      "metadata": {
        "colab": {
          "base_uri": "https://localhost:8080/"
        },
        "id": "_7mbBLVcY1DK",
        "outputId": "733a4c41-f88c-4db9-a9ff-ab750b93d1f4"
      },
      "execution_count": null,
      "outputs": [
        {
          "name": "stdout",
          "output_type": "stream",
          "text": [
            "Enter4565\n"
          ]
        },
        {
          "output_type": "execute_result",
          "data": {
            "text/plain": [
              "True"
            ]
          },
          "metadata": {},
          "execution_count": 33
        }
      ]
    },
    {
      "cell_type": "code",
      "source": [
        "#shorthand add\n",
        "a=10\n",
        "a+=2\n",
        "print(a)"
      ],
      "metadata": {
        "colab": {
          "base_uri": "https://localhost:8080/"
        },
        "id": "DkVtYOcCrBrV",
        "outputId": "fae52b27-70a3-49d1-abfc-e56f8dacdda0"
      },
      "execution_count": null,
      "outputs": [
        {
          "output_type": "stream",
          "name": "stdout",
          "text": [
            "12\n"
          ]
        }
      ]
    },
    {
      "cell_type": "code",
      "source": [
        "#shorthand subtration\n",
        "a=10\n",
        "a-=2\n",
        "print(a)"
      ],
      "metadata": {
        "colab": {
          "base_uri": "https://localhost:8080/"
        },
        "id": "Nkbm6818rH2i",
        "outputId": "c824d986-5be8-4551-d9f5-250df9079b10"
      },
      "execution_count": null,
      "outputs": [
        {
          "output_type": "stream",
          "name": "stdout",
          "text": [
            "8\n"
          ]
        }
      ]
    },
    {
      "cell_type": "code",
      "source": [
        "#shorthand multiply\n",
        "a=10\n",
        "a*=2\n",
        "print(a)"
      ],
      "metadata": {
        "colab": {
          "base_uri": "https://localhost:8080/"
        },
        "id": "0QwuI3tFrR3g",
        "outputId": "745ed2c2-8c4a-4a5c-e642-cdf370967003"
      },
      "execution_count": null,
      "outputs": [
        {
          "output_type": "stream",
          "name": "stdout",
          "text": [
            "20\n"
          ]
        }
      ]
    },
    {
      "cell_type": "code",
      "source": [
        "#shorthand division\n",
        "a=10\n",
        "a/=2\n",
        "print(a)"
      ],
      "metadata": {
        "colab": {
          "base_uri": "https://localhost:8080/"
        },
        "id": "Rw-GhQyTraG0",
        "outputId": "78837b8c-cd41-4bf8-847a-c66f40d3a5a3"
      },
      "execution_count": null,
      "outputs": [
        {
          "output_type": "stream",
          "name": "stdout",
          "text": [
            "5.0\n"
          ]
        }
      ]
    },
    {
      "cell_type": "code",
      "source": [
        "#shorthand int division\n",
        "a=10\n",
        "a//=2\n",
        "print(a)"
      ],
      "metadata": {
        "colab": {
          "base_uri": "https://localhost:8080/"
        },
        "id": "5viZ62sOrhHR",
        "outputId": "fa1c6de4-b977-4669-f179-b5065514402d"
      },
      "execution_count": null,
      "outputs": [
        {
          "output_type": "stream",
          "name": "stdout",
          "text": [
            "5\n"
          ]
        }
      ]
    },
    {
      "cell_type": "code",
      "source": [
        "#shorthand remainder\n",
        "a=10\n",
        "a%=3\n",
        "print(a)"
      ],
      "metadata": {
        "colab": {
          "base_uri": "https://localhost:8080/"
        },
        "id": "XyprdvUwrhNL",
        "outputId": "b1106422-8ffd-46d9-b0fe-2d1d3482016c"
      },
      "execution_count": null,
      "outputs": [
        {
          "output_type": "stream",
          "name": "stdout",
          "text": [
            "1\n"
          ]
        }
      ]
    },
    {
      "cell_type": "code",
      "source": [
        "#isupper\n",
        "a=input(\"Enter : \")\n",
        "a.isupper()"
      ],
      "metadata": {
        "colab": {
          "base_uri": "https://localhost:8080/"
        },
        "id": "8hejmrc5s_QF",
        "outputId": "af85247e-6a65-45a5-968e-7985602095fa"
      },
      "execution_count": null,
      "outputs": [
        {
          "name": "stdout",
          "output_type": "stream",
          "text": [
            "Enter : asDS\n"
          ]
        },
        {
          "output_type": "execute_result",
          "data": {
            "text/plain": [
              "False"
            ]
          },
          "metadata": {},
          "execution_count": 13
        }
      ]
    },
    {
      "cell_type": "code",
      "source": [
        "#islower\n",
        "a=input(\"Enter : \")\n",
        "a.islower()"
      ],
      "metadata": {
        "colab": {
          "base_uri": "https://localhost:8080/"
        },
        "id": "P8rur1AUtfZz",
        "outputId": "e64bc251-f1ec-4106-9b1d-9f2f508482a3"
      },
      "execution_count": null,
      "outputs": [
        {
          "name": "stdout",
          "output_type": "stream",
          "text": [
            "Enter : Kjkl\n"
          ]
        },
        {
          "output_type": "execute_result",
          "data": {
            "text/plain": [
              "False"
            ]
          },
          "metadata": {},
          "execution_count": 15
        }
      ]
    },
    {
      "cell_type": "code",
      "source": [
        "#isalphanum\n",
        "a=input(\"Enter : \")\n",
        "a.isalnum()"
      ],
      "metadata": {
        "colab": {
          "base_uri": "https://localhost:8080/"
        },
        "id": "kiO9l1xdtnTi",
        "outputId": "e007e5ad-cfc2-4577-d287-f9bf6ae3663a"
      },
      "execution_count": null,
      "outputs": [
        {
          "name": "stdout",
          "output_type": "stream",
          "text": [
            "Enter : l5pr=pfrfrlm\n"
          ]
        },
        {
          "output_type": "execute_result",
          "data": {
            "text/plain": [
              "False"
            ]
          },
          "metadata": {},
          "execution_count": 19
        }
      ]
    },
    {
      "cell_type": "code",
      "source": [
        "#capitalse\n",
        "a=input(\"Enter : \")\n",
        "a.capitalize()"
      ],
      "metadata": {
        "colab": {
          "base_uri": "https://localhost:8080/",
          "height": 53
        },
        "id": "qkVUHMj9uDoF",
        "outputId": "e3383ab7-d80e-424b-a506-4f93a6a4e301"
      },
      "execution_count": null,
      "outputs": [
        {
          "name": "stdout",
          "output_type": "stream",
          "text": [
            "Enter : dlkrofc fcndjcn\n"
          ]
        },
        {
          "output_type": "execute_result",
          "data": {
            "text/plain": [
              "'Dlkrofc fcndjcn'"
            ],
            "application/vnd.google.colaboratory.intrinsic+json": {
              "type": "string"
            }
          },
          "metadata": {},
          "execution_count": 21
        }
      ]
    },
    {
      "cell_type": "code",
      "source": [
        "#casefold\n",
        "a=input(\"Enter : \")\n",
        "a.casefold()"
      ],
      "metadata": {
        "colab": {
          "base_uri": "https://localhost:8080/",
          "height": 53
        },
        "id": "RqIaXf7quccp",
        "outputId": "330f0a6c-1e88-45fd-a6e4-02fbe727e052"
      },
      "execution_count": null,
      "outputs": [
        {
          "name": "stdout",
          "output_type": "stream",
          "text": [
            "Enter : AkdnjeA mkdM\n"
          ]
        },
        {
          "output_type": "execute_result",
          "data": {
            "text/plain": [
              "'akdnjea mkdm'"
            ],
            "application/vnd.google.colaboratory.intrinsic+json": {
              "type": "string"
            }
          },
          "metadata": {},
          "execution_count": 22
        }
      ]
    },
    {
      "cell_type": "code",
      "source": [
        "#center\n",
        "a=input(\"Enter : \")\n",
        "a.center(100)"
      ],
      "metadata": {
        "colab": {
          "base_uri": "https://localhost:8080/",
          "height": 53
        },
        "id": "tikt1ufYul9c",
        "outputId": "2dcd3068-b2d3-4c11-f1c2-d3ccf1a1350e"
      },
      "execution_count": null,
      "outputs": [
        {
          "name": "stdout",
          "output_type": "stream",
          "text": [
            "Enter : kjnhj\n"
          ]
        },
        {
          "output_type": "execute_result",
          "data": {
            "text/plain": [
              "'                                               kjnhj                                                '"
            ],
            "application/vnd.google.colaboratory.intrinsic+json": {
              "type": "string"
            }
          },
          "metadata": {},
          "execution_count": 25
        }
      ]
    },
    {
      "cell_type": "code",
      "source": [
        "#count\n",
        "a=input(\"Enter : \")\n",
        "a.count(\"jk\")"
      ],
      "metadata": {
        "colab": {
          "base_uri": "https://localhost:8080/"
        },
        "id": "4MVJCPsn9oCk",
        "outputId": "b041b892-0637-4fd4-e9d1-604e6dce24c6"
      },
      "execution_count": null,
      "outputs": [
        {
          "name": "stdout",
          "output_type": "stream",
          "text": [
            "Enter : jkhuihkmnkjkjihjmkjkjjlih\n"
          ]
        },
        {
          "output_type": "execute_result",
          "data": {
            "text/plain": [
              "3"
            ]
          },
          "metadata": {},
          "execution_count": 27
        }
      ]
    },
    {
      "cell_type": "code",
      "source": [
        "#endswith\n",
        "a=input(\"Enter : \")\n",
        "a.endswith(\"aa\")"
      ],
      "metadata": {
        "colab": {
          "base_uri": "https://localhost:8080/"
        },
        "id": "-mUCLTlr-IV-",
        "outputId": "96b94015-04ef-452b-ef20-b373f93078e5"
      },
      "execution_count": null,
      "outputs": [
        {
          "name": "stdout",
          "output_type": "stream",
          "text": [
            "Enter : lhgyubjgtydrderseaaa\n"
          ]
        },
        {
          "output_type": "execute_result",
          "data": {
            "text/plain": [
              "True"
            ]
          },
          "metadata": {},
          "execution_count": 28
        }
      ]
    },
    {
      "cell_type": "code",
      "source": [
        "#find\n",
        "a=input(\"Enter : \")\n",
        "a.find(\"sa\")"
      ],
      "metadata": {
        "colab": {
          "base_uri": "https://localhost:8080/"
        },
        "id": "0FBk9m8L-taX",
        "outputId": "907de492-b2d8-47f0-c0f0-8ad7742cc21f"
      },
      "execution_count": null,
      "outputs": [
        {
          "name": "stdout",
          "output_type": "stream",
          "text": [
            "Enter : knhhftrsesawfsaghdrsa\n"
          ]
        },
        {
          "output_type": "execute_result",
          "data": {
            "text/plain": [
              "9"
            ]
          },
          "metadata": {},
          "execution_count": 29
        }
      ]
    },
    {
      "cell_type": "code",
      "source": [
        "#index\n",
        "a=input(\"Enter : \")\n",
        "a.index(\"a\")"
      ],
      "metadata": {
        "colab": {
          "base_uri": "https://localhost:8080/"
        },
        "id": "HSyWeGsq_JQh",
        "outputId": "e2eb6d4b-d7ef-46c3-c114-d9c7aa55e365"
      },
      "execution_count": null,
      "outputs": [
        {
          "name": "stdout",
          "output_type": "stream",
          "text": [
            "Enter : mgtraghyuderasgfhjhyuyuyf\n"
          ]
        },
        {
          "output_type": "execute_result",
          "data": {
            "text/plain": [
              "4"
            ]
          },
          "metadata": {},
          "execution_count": 30
        }
      ]
    },
    {
      "cell_type": "code",
      "source": [
        "#isidentifier\n",
        "a=input(\"Enter : \")\n",
        "a.isidentifier()"
      ],
      "metadata": {
        "colab": {
          "base_uri": "https://localhost:8080/"
        },
        "id": "uWzMzwmI_gfX",
        "outputId": "102c7b52-54d0-4152-dfef-6d949fa7c225"
      },
      "execution_count": null,
      "outputs": [
        {
          "name": "stdout",
          "output_type": "stream",
          "text": [
            "Enter : klmk-0i\n"
          ]
        },
        {
          "output_type": "execute_result",
          "data": {
            "text/plain": [
              "False"
            ]
          },
          "metadata": {},
          "execution_count": 34
        }
      ]
    },
    {
      "cell_type": "code",
      "source": [
        "#isascii\n",
        "a=input(\"Enter : \")\n",
        "a.isascii()"
      ],
      "metadata": {
        "colab": {
          "base_uri": "https://localhost:8080/"
        },
        "id": "B7gmyXRO_S1G",
        "outputId": "a4c4137b-33be-402c-da9a-3ee31b082442"
      },
      "execution_count": null,
      "outputs": [
        {
          "name": "stdout",
          "output_type": "stream",
          "text": [
            "Enter : .,mkjhyubjk(\n"
          ]
        },
        {
          "output_type": "execute_result",
          "data": {
            "text/plain": [
              "True"
            ]
          },
          "metadata": {},
          "execution_count": 32
        }
      ]
    },
    {
      "cell_type": "code",
      "source": [
        "#isspace\n",
        "a=input(\"Enter : \")\n",
        "a.isspace()"
      ],
      "metadata": {
        "colab": {
          "base_uri": "https://localhost:8080/"
        },
        "id": "c2WdeK-TeVqD",
        "outputId": "c2d3a367-9683-4f1b-dc53-4a5dd704f27c"
      },
      "execution_count": null,
      "outputs": [
        {
          "name": "stdout",
          "output_type": "stream",
          "text": [
            "Enter :      \n"
          ]
        },
        {
          "output_type": "execute_result",
          "data": {
            "text/plain": [
              "True"
            ]
          },
          "metadata": {},
          "execution_count": 2
        }
      ]
    },
    {
      "cell_type": "code",
      "source": [
        "#istitle\n",
        "a=input(\"Enter : \")\n",
        "a.istitle()"
      ],
      "metadata": {
        "colab": {
          "base_uri": "https://localhost:8080/"
        },
        "id": "8zhswI8Ne9Tv",
        "outputId": "3bc6a526-c68f-47d8-a346-0d4ece1f956e"
      },
      "execution_count": null,
      "outputs": [
        {
          "name": "stdout",
          "output_type": "stream",
          "text": [
            "Enter : Td\n"
          ]
        },
        {
          "output_type": "execute_result",
          "data": {
            "text/plain": [
              "True"
            ]
          },
          "metadata": {},
          "execution_count": 4
        }
      ]
    },
    {
      "cell_type": "code",
      "source": [
        "#isupper\n",
        "a=input(\"Enter : \")\n",
        "a.isupper()"
      ],
      "metadata": {
        "colab": {
          "base_uri": "https://localhost:8080/"
        },
        "id": "uMHboI8dfUl7",
        "outputId": "9664724c-341f-47f8-8bf4-8535b2f277e1"
      },
      "execution_count": null,
      "outputs": [
        {
          "name": "stdout",
          "output_type": "stream",
          "text": [
            "Enter : SGAFASDAg\n"
          ]
        },
        {
          "output_type": "execute_result",
          "data": {
            "text/plain": [
              "False"
            ]
          },
          "metadata": {},
          "execution_count": 5
        }
      ]
    },
    {
      "cell_type": "code",
      "source": [
        "#lstrip\n",
        "a=input(\"Enter : \")\n",
        "a.lstrip()"
      ],
      "metadata": {
        "colab": {
          "base_uri": "https://localhost:8080/",
          "height": 53
        },
        "id": "XFcezBY4fedZ",
        "outputId": "68203132-afae-4934-9e59-408faa655586"
      },
      "execution_count": null,
      "outputs": [
        {
          "name": "stdout",
          "output_type": "stream",
          "text": [
            "Enter :      hdgdfr\n"
          ]
        },
        {
          "output_type": "execute_result",
          "data": {
            "text/plain": [
              "'hdgdfr'"
            ],
            "application/vnd.google.colaboratory.intrinsic+json": {
              "type": "string"
            }
          },
          "metadata": {},
          "execution_count": 6
        }
      ]
    },
    {
      "cell_type": "code",
      "source": [
        "#rstrip\n",
        "a=input(\"Enter : \")\n",
        "a.rstrip()"
      ],
      "metadata": {
        "colab": {
          "base_uri": "https://localhost:8080/",
          "height": 53
        },
        "id": "fuxr-sb8fnp8",
        "outputId": "7f1ee99c-198f-4351-bd29-a581487bed77"
      },
      "execution_count": null,
      "outputs": [
        {
          "name": "stdout",
          "output_type": "stream",
          "text": [
            "Enter :   hghjjghs juhsdushd \n"
          ]
        },
        {
          "output_type": "execute_result",
          "data": {
            "text/plain": [
              "'  hghjjghs juhsdushd'"
            ],
            "application/vnd.google.colaboratory.intrinsic+json": {
              "type": "string"
            }
          },
          "metadata": {},
          "execution_count": 7
        }
      ]
    },
    {
      "cell_type": "code",
      "source": [
        "#strip()\n",
        "a=input(\"Enter : \")\n",
        "a.strip()"
      ],
      "metadata": {
        "colab": {
          "base_uri": "https://localhost:8080/",
          "height": 53
        },
        "id": "6DJez0B4fxCV",
        "outputId": "b87d6acc-e0e4-4680-ea49-e12c89fb8335"
      },
      "execution_count": null,
      "outputs": [
        {
          "name": "stdout",
          "output_type": "stream",
          "text": [
            "Enter :   duyfgdhg udgfudgfdh.    \n"
          ]
        },
        {
          "output_type": "execute_result",
          "data": {
            "text/plain": [
              "'duyfgdhg udgfudgfdh.'"
            ],
            "application/vnd.google.colaboratory.intrinsic+json": {
              "type": "string"
            }
          },
          "metadata": {},
          "execution_count": 8
        }
      ]
    },
    {
      "cell_type": "code",
      "source": [
        "#join\n",
        "a=(\"wdsd\",\"sdsd\",\"sdd\")\n",
        "x=\"#\".join(a)\n",
        "x"
      ],
      "metadata": {
        "colab": {
          "base_uri": "https://localhost:8080/",
          "height": 35
        },
        "id": "iwhclKPZgKOh",
        "outputId": "e9f4f854-abbe-4afc-fece-3bf10ce304e4"
      },
      "execution_count": null,
      "outputs": [
        {
          "output_type": "execute_result",
          "data": {
            "text/plain": [
              "'wdsd#sdsd#sdd'"
            ],
            "application/vnd.google.colaboratory.intrinsic+json": {
              "type": "string"
            }
          },
          "metadata": {},
          "execution_count": 9
        }
      ]
    },
    {
      "cell_type": "code",
      "source": [
        "#split\n",
        "a=input(\"Enter : \")\n",
        "a.split()"
      ],
      "metadata": {
        "colab": {
          "base_uri": "https://localhost:8080/"
        },
        "id": "nxt0RzAzgkJ6",
        "outputId": "75d5d7e0-5065-4edc-def2-4d0cc36530ba"
      },
      "execution_count": null,
      "outputs": [
        {
          "name": "stdout",
          "output_type": "stream",
          "text": [
            "Enter : hcdhd ifudygfdh yfgfhjd\n"
          ]
        },
        {
          "output_type": "execute_result",
          "data": {
            "text/plain": [
              "['hcdhd', 'ifudygfdh', 'yfgfhjd']"
            ]
          },
          "metadata": {},
          "execution_count": 10
        }
      ]
    },
    {
      "cell_type": "code",
      "source": [
        "#rindex\n",
        "a=input(\"Enter : \")\n",
        "a.rindex(\"cd\")"
      ],
      "metadata": {
        "colab": {
          "base_uri": "https://localhost:8080/"
        },
        "id": "gy5oDxExhr1Q",
        "outputId": "266cfe47-0e5b-46b8-ef22-dc8a4c3874e1"
      },
      "execution_count": null,
      "outputs": [
        {
          "name": "stdout",
          "output_type": "stream",
          "text": [
            "Enter : kjhfdhjbcsamkdnsjdjsjdsdjjsdjsjvchcdcdjchdjcbsmcjdsjcbdjcdc\n"
          ]
        },
        {
          "output_type": "execute_result",
          "data": {
            "text/plain": [
              "56"
            ]
          },
          "metadata": {},
          "execution_count": 11
        }
      ]
    },
    {
      "cell_type": "code",
      "source": [
        "#unit 4 lesson 16 q5\n",
        "x=int(input(\"x:\" ))\n",
        "a=list()\n",
        "i=2\n",
        "s=0\n",
        "for i in range(x+1):\n",
        "    i+=1\n",
        "    if(x%i==0 and i!=0):\n",
        "        a.append(i)\n",
        "        s+=i\n",
        "print(a)\n",
        "s-=x\n",
        "if(s==x):\n",
        "    print(\"perfect number\")\n",
        "else:\n",
        "    print(\"not a perfect number\")"
      ],
      "metadata": {
        "id": "UxKZz5kCPtpk"
      },
      "execution_count": null,
      "outputs": []
    },
    {
      "cell_type": "code",
      "source": [],
      "metadata": {
        "id": "oh3DagZbQAqQ"
      },
      "execution_count": null,
      "outputs": []
    }
  ]
}