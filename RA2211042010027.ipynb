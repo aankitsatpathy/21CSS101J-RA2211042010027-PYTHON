{
  "nbformat": 4,
  "nbformat_minor": 0,
  "metadata": {
    "colab": {
      "provenance": [],
      "authorship_tag": "ABX9TyOfnNDPiwtcxbNDeaTr2leQ",
      "include_colab_link": true
    },
    "kernelspec": {
      "name": "python3",
      "display_name": "Python 3"
    },
    "language_info": {
      "name": "python"
    }
  },
  "cells": [
    {
      "cell_type": "markdown",
      "metadata": {
        "id": "view-in-github",
        "colab_type": "text"
      },
      "source": [
        "<a href=\"https://colab.research.google.com/github/aankitsatpathy/21CSS101J-RA2211042010027-PYTHON/blob/main/RA2211042010027.ipynb\" target=\"_parent\"><img src=\"https://colab.research.google.com/assets/colab-badge.svg\" alt=\"Open In Colab\"/></a>"
      ]
    },
    {
      "cell_type": "code",
      "execution_count": 3,
      "metadata": {
        "colab": {
          "base_uri": "https://localhost:8080/"
        },
        "id": "dkMNAjH2G6JY",
        "outputId": "83c34ae4-a523-402e-a2a8-525604cc44ad"
      },
      "outputs": [
        {
          "output_type": "stream",
          "name": "stdout",
          "text": [
            "RA2211042010027\n",
            "0\n",
            "1\n",
            "2\n",
            "3\n",
            "4\n",
            "5\n",
            "6\n",
            "7\n",
            "8\n",
            "9\n",
            "10\n"
          ]
        }
      ],
      "source": [
        "\n",
        "for a in range(11):\n",
        "    print(a)"
      ]
    },
    {
      "cell_type": "code",
      "source": [
        "a=10\n",
        "b=20\n",
        "print(\"Before swap \\nA =\",a,\"B = \",b,\"\\nAfter swaping\")\n",
        "t=a\n",
        "a=b\n",
        "b=t\n",
        "print(\"A =\",a,\"B = \",b)"
      ],
      "metadata": {
        "colab": {
          "base_uri": "https://localhost:8080/"
        },
        "id": "YqPEAIW4Lj15",
        "outputId": "098f94aa-bea4-4943-d65c-868277f92d69"
      },
      "execution_count": 8,
      "outputs": [
        {
          "output_type": "stream",
          "name": "stdout",
          "text": [
            "Before swap \n",
            "A = 10 B =  20 \n",
            "After swaping\n",
            "A = 20 B =  10\n"
          ]
        }
      ]
    },
    {
      "cell_type": "code",
      "source": [
        "a=10\n",
        "b=20\n",
        "c=a+b\n",
        "print(\"Sum = \",c)"
      ],
      "metadata": {
        "colab": {
          "base_uri": "https://localhost:8080/"
        },
        "id": "wvDN_081MzeQ",
        "outputId": "ac1588e1-43cc-4c3a-f82d-ea764a48fc3f"
      },
      "execution_count": 9,
      "outputs": [
        {
          "output_type": "stream",
          "name": "stdout",
          "text": [
            "Sum =  30\n"
          ]
        }
      ]
    },
    {
      "cell_type": "code",
      "source": [
        "a=int(input(\"Enter\"))\n",
        "b=int(input(\"Enter\"))\n",
        "print(\"The largest number is = \",end=\" \")\n",
        "if(a>b):\n",
        "  print(a)\n",
        "else:\n",
        "  print(b)\n"
      ],
      "metadata": {
        "colab": {
          "base_uri": "https://localhost:8080/"
        },
        "id": "dfq_7ZRcQBva",
        "outputId": "0dd68b43-44e1-43f3-c981-8e85fa4ad45a"
      },
      "execution_count": 13,
      "outputs": [
        {
          "output_type": "stream",
          "name": "stdout",
          "text": [
            "Enter56\n",
            "Enter65\n",
            "The largest number is =  65\n"
          ]
        }
      ]
    },
    {
      "cell_type": "code",
      "source": [
        "a=int(input(\"Enter\"))\n",
        "b=int(input(\"Enter\"))\n",
        "print(\"Sum = \",a+b)"
      ],
      "metadata": {
        "colab": {
          "base_uri": "https://localhost:8080/"
        },
        "id": "UHTPUBuzREpe",
        "outputId": "11f5fdd9-39d8-441f-92f8-186c1823b8f6"
      },
      "execution_count": 18,
      "outputs": [
        {
          "output_type": "stream",
          "name": "stdout",
          "text": [
            "Enter657\n",
            "Enter5467\n",
            "Sum =  6124\n"
          ]
        }
      ]
    },
    {
      "cell_type": "code",
      "source": [
        "a=int(input(\"Enter\"))\n",
        "b=int(input(\"Enter\"))\n",
        "print(\"Difference = \",a-b)"
      ],
      "metadata": {
        "colab": {
          "base_uri": "https://localhost:8080/"
        },
        "id": "h_cd5gUBSect",
        "outputId": "72fcfa66-1bc3-431c-97a4-4ac4083c1bbb"
      },
      "execution_count": 19,
      "outputs": [
        {
          "output_type": "stream",
          "name": "stdout",
          "text": [
            "Enter876\n",
            "Enter5678\n",
            "Difference =  -4802\n"
          ]
        }
      ]
    },
    {
      "cell_type": "code",
      "source": [
        "a=int(input(\"Enter\"))\n",
        "b=int(input(\"Enter\"))\n",
        "c=int(input(\"Enter\"))\n",
        "print(\"The largest number is = \",end=\" \")\n",
        "if(a>b and a>c):\n",
        "  print(a)\n",
        "elif(b>c and b>a):\n",
        "  print(b)\n",
        "else:\n",
        "  print(c)"
      ],
      "metadata": {
        "colab": {
          "base_uri": "https://localhost:8080/"
        },
        "outputId": "f103ac0f-56da-40e9-f777-58b4a16e0c2b",
        "id": "EeAOC2d-RJcl"
      },
      "execution_count": 15,
      "outputs": [
        {
          "output_type": "stream",
          "name": "stdout",
          "text": [
            "Enter546\n",
            "Enter765\n",
            "Enter345\n",
            "The largest number is =  765\n"
          ]
        }
      ]
    },
    {
      "cell_type": "code",
      "source": [],
      "metadata": {
        "id": "tIjSt2lvRsKT"
      },
      "execution_count": null,
      "outputs": []
    },
    {
      "cell_type": "code",
      "source": [
        "a=int(input(\"Enter\"))\n",
        "b=int(input(\"Enter\"))\n",
        "print(\"The smallest number is = \",end=\" \")\n",
        "if(a<b):\n",
        "  print(a)\n",
        "else:\n",
        "  print(b)\n"
      ],
      "metadata": {
        "colab": {
          "base_uri": "https://localhost:8080/"
        },
        "outputId": "79c4534e-0e2b-468c-bea2-6772ba278681",
        "id": "3gKiEe0oRslr"
      },
      "execution_count": 16,
      "outputs": [
        {
          "output_type": "stream",
          "name": "stdout",
          "text": [
            "Enter764\n",
            "Enter5467\n",
            "The smallest number is =  764\n"
          ]
        }
      ]
    },
    {
      "cell_type": "code",
      "source": [
        "a=int(input(\"Enter\"))\n",
        "b=int(input(\"Enter\"))\n",
        "c=int(input(\"Enter\"))\n",
        "print(\"The smallest number is = \",end=\" \")\n",
        "if(a<b and a<c):\n",
        "  print(a)\n",
        "elif(b<c and b<a):\n",
        "  print(b)\n",
        "else:\n",
        "  print(c)"
      ],
      "metadata": {
        "colab": {
          "base_uri": "https://localhost:8080/"
        },
        "id": "EoZagrWoRyB-",
        "outputId": "07f5996c-0e2f-4d4d-ee52-a1102ad9bceb"
      },
      "execution_count": 17,
      "outputs": [
        {
          "output_type": "stream",
          "name": "stdout",
          "text": [
            "Enter765\n",
            "Enter567\n",
            "Enter8765\n",
            "The smallest number is =  567\n"
          ]
        }
      ]
    },
    {
      "cell_type": "code",
      "source": [
        "a=int(input(\"Enter\"))\n",
        "b=int(input(\"Enter\"))\n",
        "print(\"Product = \",a*b)"
      ],
      "metadata": {
        "colab": {
          "base_uri": "https://localhost:8080/"
        },
        "id": "viyg1GT-SpUQ",
        "outputId": "4df46b38-8e2a-49a3-ceb2-83b2683f3675"
      },
      "execution_count": 20,
      "outputs": [
        {
          "output_type": "stream",
          "name": "stdout",
          "text": [
            "Enter65\n",
            "Enter2\n",
            "Product =  130\n"
          ]
        }
      ]
    },
    {
      "cell_type": "code",
      "source": [
        "a=int(input(\"Enter\"))\n",
        "b=int(input(\"Enter\"))\n",
        "print(\"Quotient = \",a/b)"
      ],
      "metadata": {
        "colab": {
          "base_uri": "https://localhost:8080/"
        },
        "id": "V3UuHJoQTMfL",
        "outputId": "3b4f0e8b-8b94-43be-ec9c-ea5be246f537"
      },
      "execution_count": 21,
      "outputs": [
        {
          "output_type": "stream",
          "name": "stdout",
          "text": [
            "Enter56\n",
            "Enter8\n",
            "Quotient =  7.0\n"
          ]
        }
      ]
    },
    {
      "cell_type": "code",
      "source": [
        "a=int(input(\"Enter\"))\n",
        "b=int(input(\"Enter\"))\n",
        "print(\"Int Quotient = \",a//b)"
      ],
      "metadata": {
        "colab": {
          "base_uri": "https://localhost:8080/"
        },
        "id": "83Zgciz_TYi3",
        "outputId": "fdef60d5-1f78-40c3-caa9-7aa03fec19d6"
      },
      "execution_count": 22,
      "outputs": [
        {
          "output_type": "stream",
          "name": "stdout",
          "text": [
            "Enter56\n",
            "Enter8\n",
            "Int Quotient =  7\n"
          ]
        }
      ]
    },
    {
      "cell_type": "code",
      "source": [
        "a=int(input(\"Enter\"))\n",
        "b=int(input(\"Enter\"))\n",
        "print(\"Remainder = \",a%b)"
      ],
      "metadata": {
        "colab": {
          "base_uri": "https://localhost:8080/"
        },
        "id": "OLbr50_2Tj81",
        "outputId": "79ab2c89-f7d1-44f5-ab5a-9e1a3e80368e"
      },
      "execution_count": 23,
      "outputs": [
        {
          "output_type": "stream",
          "name": "stdout",
          "text": [
            "Enter435\n",
            "Enter7\n",
            "Remainder =  1\n"
          ]
        }
      ]
    },
    {
      "cell_type": "code",
      "source": [
        "a=input(\"Enter\")\n",
        "b=a[::-1]\n",
        "print(b)"
      ],
      "metadata": {
        "colab": {
          "base_uri": "https://localhost:8080/"
        },
        "id": "pHazLZ3vUIf5",
        "outputId": "ee185c70-4df4-47da-e86e-b85e66308a71"
      },
      "execution_count": 24,
      "outputs": [
        {
          "output_type": "stream",
          "name": "stdout",
          "text": [
            "Enteraankit\n",
            "tiknaa\n"
          ]
        }
      ]
    },
    {
      "cell_type": "code",
      "source": [
        "a=(input(\"Enter\"))\n",
        "a[:5]"
      ],
      "metadata": {
        "colab": {
          "base_uri": "https://localhost:8080/",
          "height": 53
        },
        "id": "A9tNL4lqWmeQ",
        "outputId": "c1b64c17-b843-46c7-d17c-924af8c45d91"
      },
      "execution_count": 25,
      "outputs": [
        {
          "name": "stdout",
          "output_type": "stream",
          "text": [
            "Enterjhghjghf\n"
          ]
        },
        {
          "output_type": "execute_result",
          "data": {
            "text/plain": [
              "'jhghj'"
            ],
            "application/vnd.google.colaboratory.intrinsic+json": {
              "type": "string"
            }
          },
          "metadata": {},
          "execution_count": 25
        }
      ]
    },
    {
      "cell_type": "code",
      "source": [
        "a=(input(\"Enter\"))\n",
        "a[2:5]"
      ],
      "metadata": {
        "colab": {
          "base_uri": "https://localhost:8080/",
          "height": 53
        },
        "id": "PuUpEecsWzGL",
        "outputId": "94e2b205-62e1-4c49-cd55-c93d447eedca"
      },
      "execution_count": 26,
      "outputs": [
        {
          "name": "stdout",
          "output_type": "stream",
          "text": [
            "Enterhfhfty\n"
          ]
        },
        {
          "output_type": "execute_result",
          "data": {
            "text/plain": [
              "'hft'"
            ],
            "application/vnd.google.colaboratory.intrinsic+json": {
              "type": "string"
            }
          },
          "metadata": {},
          "execution_count": 26
        }
      ]
    },
    {
      "cell_type": "code",
      "source": [
        "a=(input(\"Enter\"))\n",
        "a.upper()"
      ],
      "metadata": {
        "colab": {
          "base_uri": "https://localhost:8080/",
          "height": 53
        },
        "id": "K8BJlp__XCqU",
        "outputId": "da3ba02a-a7ce-4dad-fc36-2514e44a8a86"
      },
      "execution_count": 27,
      "outputs": [
        {
          "name": "stdout",
          "output_type": "stream",
          "text": [
            "Enterghugyufghjbhjftyfhugtdxrtcrtse\n"
          ]
        },
        {
          "output_type": "execute_result",
          "data": {
            "text/plain": [
              "'GHUGYUFGHJBHJFTYFHUGTDXRTCRTSE'"
            ],
            "application/vnd.google.colaboratory.intrinsic+json": {
              "type": "string"
            }
          },
          "metadata": {},
          "execution_count": 27
        }
      ]
    },
    {
      "cell_type": "code",
      "source": [
        "a=(input(\"Enter\"))\n",
        "a.lower()"
      ],
      "metadata": {
        "colab": {
          "base_uri": "https://localhost:8080/",
          "height": 53
        },
        "id": "rAY1ojWgXZHU",
        "outputId": "573e20b9-a27e-4fc1-bda4-2bb51a489c2e"
      },
      "execution_count": 28,
      "outputs": [
        {
          "name": "stdout",
          "output_type": "stream",
          "text": [
            "EnterFDTYRDGHFTDFHJGUIGFGIURGHFRIGHFKCVHIGYRIKFJDNFIURYGRIUU\n"
          ]
        },
        {
          "output_type": "execute_result",
          "data": {
            "text/plain": [
              "'fdtyrdghftdfhjguigfgiurghfrighfkcvhigyrikfjdnfiurygriuu'"
            ],
            "application/vnd.google.colaboratory.intrinsic+json": {
              "type": "string"
            }
          },
          "metadata": {},
          "execution_count": 28
        }
      ]
    },
    {
      "cell_type": "code",
      "source": [
        "a=(input(\"Enter\"))\n",
        "a.isalpha()"
      ],
      "metadata": {
        "colab": {
          "base_uri": "https://localhost:8080/"
        },
        "id": "FfnSTrFdYaOL",
        "outputId": "5e24cb1d-3938-45e4-a2eb-44a51c7aca70"
      },
      "execution_count": 31,
      "outputs": [
        {
          "name": "stdout",
          "output_type": "stream",
          "text": [
            "Enterhfyf44etc\n"
          ]
        },
        {
          "output_type": "execute_result",
          "data": {
            "text/plain": [
              "False"
            ]
          },
          "metadata": {},
          "execution_count": 31
        }
      ]
    },
    {
      "cell_type": "code",
      "source": [
        "a=(input(\"Enter\"))\n",
        "a.isdigit()"
      ],
      "metadata": {
        "colab": {
          "base_uri": "https://localhost:8080/"
        },
        "id": "_7mbBLVcY1DK",
        "outputId": "733a4c41-f88c-4db9-a9ff-ab750b93d1f4"
      },
      "execution_count": 33,
      "outputs": [
        {
          "name": "stdout",
          "output_type": "stream",
          "text": [
            "Enter4565\n"
          ]
        },
        {
          "output_type": "execute_result",
          "data": {
            "text/plain": [
              "True"
            ]
          },
          "metadata": {},
          "execution_count": 33
        }
      ]
    }
  ]
}